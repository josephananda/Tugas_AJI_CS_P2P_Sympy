{
  "nbformat": 4,
  "nbformat_minor": 0,
  "metadata": {
    "colab": {
      "provenance": [],
      "collapsed_sections": [
        "WmhNBEowymIU"
      ]
    },
    "kernelspec": {
      "name": "python3",
      "display_name": "Python 3"
    },
    "language_info": {
      "name": "python"
    }
  },
  "cells": [
    {
      "cell_type": "markdown",
      "source": [
        "Tugas AJI - Perbandingan P2P dan Client-Server (dengan SymPy)\n",
        "\n",
        "Anggota Kelompok:\n",
        "*   Joseph Ananda Sugihdharma (226150100111013)\n",
        "*   Alfirsa Damasyifa Fauzulhaq (226150100111019)\n",
        "*   Muhammad Yasir Anshari Haq (226150100111009)"
      ],
      "metadata": {
        "id": "lgMDulByhpgH"
      }
    },
    {
      "cell_type": "code",
      "source": [
        "'''\n",
        "Tugas AJI - Perbandingan P2P dan Client-Server (dengan SymPy)\n",
        "\n",
        "Anggota Kelompok:\n",
        "Joseph Ananda Sugihdharma (226150100111013)\n",
        "Alfirsa Damasyifa Fauzulhaq (226150100111019)\n",
        "Muhammad Yasir Anshari Haq (226150100111009)\n",
        "'''"
      ],
      "metadata": {
        "id": "Bw2lrSiAhF3H"
      },
      "execution_count": null,
      "outputs": []
    },
    {
      "cell_type": "code",
      "execution_count": null,
      "metadata": {
        "id": "jIrzFboiBJDu"
      },
      "outputs": [],
      "source": [
        "import numpy as np\n",
        "import sympy as sp\n",
        "import random\n",
        "import matplotlib.pyplot as plt\n",
        "from IPython.display import display, Markdown\n",
        "\n",
        "import seaborn as sns\n",
        "sns.set()"
      ]
    },
    {
      "cell_type": "code",
      "source": [
        "file_size = 1024\n",
        "server_upload_speed = 4\n",
        "client_download_speed = 4\n",
        "client_upload_speed = 1\n",
        "list_num_of_clients = [i for i in range(1, 100)]"
      ],
      "metadata": {
        "id": "AcjDi-Df1lN3"
      },
      "execution_count": null,
      "outputs": []
    },
    {
      "cell_type": "markdown",
      "source": [
        "# Client-Server"
      ],
      "metadata": {
        "id": "WmhNBEowymIU"
      }
    },
    {
      "cell_type": "code",
      "execution_count": null,
      "metadata": {
        "id": "f7d00a21-76c2-4ff0-8877-aa9a852f4b4a"
      },
      "outputs": [],
      "source": [
        "N, F, us, dmin = sp.symbols('N F U_s d_min')"
      ]
    },
    {
      "cell_type": "code",
      "execution_count": null,
      "metadata": {
        "id": "cd5d4aff-ad78-4b99-b836-9c478b18f042",
        "outputId": "7188d4b5-19a9-473e-ed25-7ca6ec051415",
        "colab": {
          "base_uri": "https://localhost:8080/",
          "height": 39
        }
      },
      "outputs": [
        {
          "output_type": "display_data",
          "data": {
            "text/plain": [
              "d_min"
            ],
            "text/latex": "$\\displaystyle d_{min}$"
          },
          "metadata": {}
        }
      ],
      "source": [
        "display(dmin)"
      ]
    },
    {
      "cell_type": "code",
      "execution_count": null,
      "metadata": {
        "id": "83ad5864-096d-4cfc-8cac-7664fa18ff30"
      },
      "outputs": [],
      "source": [
        "time_send_n_copy = N*F/us              # time_send_one_copy\n",
        "min_client_download_time = F/dmin    # min_client_download_time"
      ]
    },
    {
      "cell_type": "code",
      "execution_count": null,
      "metadata": {
        "id": "209c19d1-6be5-4e0e-8c17-865bbacd389f"
      },
      "outputs": [],
      "source": [
        "eq_lmbd_cs = sp.lambdify((N,F,us),time_send_n_copy)"
      ]
    },
    {
      "cell_type": "code",
      "execution_count": null,
      "metadata": {
        "id": "a7e4d1fe-bb7d-4c0e-8ad1-a757d7c693bd",
        "outputId": "9ada514e-0481-45ec-bad1-eded3e7719e2",
        "colab": {
          "base_uri": "https://localhost:8080/"
        }
      },
      "outputs": [
        {
          "output_type": "stream",
          "name": "stdout",
          "text": [
            "[256.0, 512.0, 768.0, 1024.0, 1280.0, 1536.0, 1792.0, 2048.0, 2304.0, 2560.0, 2816.0, 3072.0, 3328.0, 3584.0, 3840.0, 4096.0, 4352.0, 4608.0, 4864.0, 5120.0, 5376.0, 5632.0, 5888.0, 6144.0, 6400.0, 6656.0, 6912.0, 7168.0, 7424.0, 7680.0, 7936.0, 8192.0, 8448.0, 8704.0, 8960.0, 9216.0, 9472.0, 9728.0, 9984.0, 10240.0, 10496.0, 10752.0, 11008.0, 11264.0, 11520.0, 11776.0, 12032.0, 12288.0, 12544.0, 12800.0, 13056.0, 13312.0, 13568.0, 13824.0, 14080.0, 14336.0, 14592.0, 14848.0, 15104.0, 15360.0, 15616.0, 15872.0, 16128.0, 16384.0, 16640.0, 16896.0, 17152.0, 17408.0, 17664.0, 17920.0, 18176.0, 18432.0, 18688.0, 18944.0, 19200.0, 19456.0, 19712.0, 19968.0, 20224.0, 20480.0, 20736.0, 20992.0, 21248.0, 21504.0, 21760.0, 22016.0, 22272.0, 22528.0, 22784.0, 23040.0, 23296.0, 23552.0, 23808.0, 24064.0, 24320.0, 24576.0, 24832.0, 25088.0, 25344.0]\n"
          ]
        }
      ],
      "source": [
        "data_n_cs = []\n",
        "for num_client in list_num_of_clients:\n",
        "    data_n_cs.append(eq_lmbd_cs(num_client, file_size, server_upload_speed))\n",
        "print(data_n_cs)"
      ]
    },
    {
      "cell_type": "code",
      "execution_count": null,
      "metadata": {
        "id": "050b2355-7021-4a46-aef5-46891a7b4960",
        "outputId": "0b99d27f-9662-459a-b747-d0acaa674f5c",
        "colab": {
          "base_uri": "https://localhost:8080/",
          "height": 519
        }
      },
      "outputs": [
        {
          "output_type": "execute_result",
          "data": {
            "text/plain": [
              "Text(0, 0.5, 'Minimum CS File Distribution Time (s)')"
            ]
          },
          "metadata": {},
          "execution_count": 115
        },
        {
          "output_type": "display_data",
          "data": {
            "text/plain": [
              "<Figure size 720x576 with 1 Axes>"
            ],
            "image/png": "[encoded data removed]"
          },
          "metadata": {}
        }
      ],
      "source": [
        "plt.figure(figsize=(10,8))\n",
        "plt.plot(list_num_of_clients, data_n_cs)\n",
        "plt.xlabel('Number of Clients (n)')\n",
        "plt.ylabel('Minimum CS File Distribution Time (s)')"
      ]
    },
    {
      "cell_type": "markdown",
      "source": [
        "# Peer-to-Peer"
      ],
      "metadata": {
        "id": "V5kgBzzEyjFT"
      }
    },
    {
      "cell_type": "code",
      "source": [
        "D_p2p, N, F, Us, dmin, Sig_Ui = sp.symbols(\"D_{P2P}, N, F, U_s, d_min, \\Sigma_U_i\")"
      ],
      "metadata": {
        "id": "bQQzQo0WBVgd"
      },
      "execution_count": null,
      "outputs": []
    },
    {
      "cell_type": "code",
      "source": [
        "time_send_one_copy = F/Us\n",
        "min_client_download_time = F/dmin\n",
        "max_upload_rate = Us + Sig_Ui\n",
        "p2p_max_time = N*F/max_upload_rate"
      ],
      "metadata": {
        "id": "f1155wuwCisk"
      },
      "execution_count": null,
      "outputs": []
    },
    {
      "cell_type": "code",
      "source": [
        "display(p2p_max_time)"
      ],
      "metadata": {
        "colab": {
          "base_uri": "https://localhost:8080/",
          "height": 54
        },
        "id": "EamSQCG3ERAE",
        "outputId": "a89d9cea-3393-4e00-a4e2-39465ff7fed9"
      },
      "execution_count": null,
      "outputs": [
        {
          "output_type": "display_data",
          "data": {
            "text/plain": [
              "F*N/(U_s + \\Sigma_U_i)"
            ],
            "text/latex": "$\\displaystyle \\frac{F N}{U_{s} + \\Sigma_{U i}}$"
          },
          "metadata": {}
        }
      ]
    },
    {
      "cell_type": "code",
      "source": [
        "display(\n",
        "    Markdown(\n",
        "        'time send one copy = {}'.format(\n",
        "            sp.latex(time_send_one_copy, mode='inline')\n",
        "        )\n",
        "    )\n",
        ")\n",
        "\n",
        "display(\n",
        "    Markdown(\n",
        "        'minimum client download time = {}'.format(\n",
        "            sp.latex(min_client_download_time, mode='inline')\n",
        "        )\n",
        "    )\n",
        ")\n",
        "\n",
        "display(\n",
        "    Markdown(\n",
        "        'maximum upload rate = {}'.format(\n",
        "            sp.latex(max_upload_rate, mode='inline')\n",
        "        )\n",
        "    )\n",
        ")"
      ],
      "metadata": {
        "colab": {
          "base_uri": "https://localhost:8080/",
          "height": 107
        },
        "id": "PwDADZtCES2S",
        "outputId": "471801a2-1a15-4bb5-f1d8-4c16bb8e062f"
      },
      "execution_count": null,
      "outputs": [
        {
          "output_type": "display_data",
          "data": {
            "text/plain": [
              "<IPython.core.display.Markdown object>"
            ],
            "text/markdown": "time send one copy = $F / U_{s}$"
          },
          "metadata": {}
        },
        {
          "output_type": "display_data",
          "data": {
            "text/plain": [
              "<IPython.core.display.Markdown object>"
            ],
            "text/markdown": "minimum client download time = $F / d_{min}$"
          },
          "metadata": {}
        },
        {
          "output_type": "display_data",
          "data": {
            "text/plain": [
              "<IPython.core.display.Markdown object>"
            ],
            "text/markdown": "maximum upload rate = $U_{s} + \\Sigma_{U i}$"
          },
          "metadata": {}
        }
      ]
    },
    {
      "cell_type": "code",
      "source": [
        "eq_lmbd_1 = sp.lambdify((F, Us), time_send_one_copy)\n",
        "eq_lmbd_2 = sp.lambdify((F, dmin), min_client_download_time)\n",
        "eq_lmbd_3 = sp.lambdify((N, F, Us, Sig_Ui), p2p_max_time)"
      ],
      "metadata": {
        "id": "CAb9KE0lE8yX"
      },
      "execution_count": null,
      "outputs": []
    },
    {
      "cell_type": "code",
      "source": [
        "np.random.seed(12)\n",
        "data_n_p2p = []\n",
        "\n",
        "for num_client in list_num_of_clients:\n",
        "  tsoc = eq_lmbd_1(file_size, server_upload_speed)\n",
        "  mcdt = eq_lmbd_2(file_size, client_download_speed)\n",
        "\n",
        "  sigui = num_client * client_upload_speed\n",
        "  \n",
        "  # sigui = 0\n",
        "  # for i in range(num_client):\n",
        "  #   sigui += random.randint(1,5)\n",
        "    # sigui += 25\n",
        "\n",
        "  p2pmt = eq_lmbd_3(num_client, file_size, server_upload_speed, sigui)\n",
        "\n",
        "  data_n_p2p.append(np.max([tsoc, mcdt, p2pmt]))"
      ],
      "metadata": {
        "id": "SNIxK32sGRxH"
      },
      "execution_count": null,
      "outputs": []
    },
    {
      "cell_type": "code",
      "source": [
        "plt.figure(figsize=(10,8))\n",
        "sns.lineplot(list_num_of_clients, data_n_p2p)\n",
        "plt.ylim(top=3000)\n",
        "plt.xlabel('Number of Clients (n)')\n",
        "plt.ylabel('Minimum P2P File Distribution Time (s)')"
      ],
      "metadata": {
        "colab": {
          "base_uri": "https://localhost:8080/",
          "height": 578
        },
        "id": "0KL7fsyfKBB9",
        "outputId": "723a9d4b-e8cb-43a1-9f1c-fa3400486828"
      },
      "execution_count": null,
      "outputs": [
        {
          "output_type": "stream",
          "name": "stderr",
          "text": [
            "/usr/local/lib/python3.7/dist-packages/seaborn/_decorators.py:43: FutureWarning: Pass the following variables as keyword args: x, y. From version 0.12, the only valid positional argument will be `data`, and passing other arguments without an explicit keyword will result in an error or misinterpretation.\n",
            "  FutureWarning\n"
          ]
        },
        {
          "output_type": "execute_result",
          "data": {
            "text/plain": [
              "Text(0, 0.5, 'Minimum P2P File Distribution Time (s)')"
            ]
          },
          "metadata": {},
          "execution_count": 122
        },
        {
          "output_type": "display_data",
          "data": {
            "text/plain": [
              "<Figure size 720x576 with 1 Axes>"
            ],
            "image/png": "[encoded data removed]"
          },
          "metadata": {}
        }
      ]
    },
    {
      "cell_type": "markdown",
      "source": [
        "# Perbandingan CS dan P2P"
      ],
      "metadata": {
        "id": "0BsQz5R6Et5s"
      }
    },
    {
      "cell_type": "code",
      "source": [
        "plt.figure(figsize=(10,8))\n",
        "sns.lineplot(x=list_num_of_clients, y=data_n_cs)\n",
        "sns.lineplot(x=list_num_of_clients, y=data_n_p2p)\n",
        "\n",
        "plt.xlabel('Number of Clients (n)')\n",
        "plt.ylabel('Minimum File Distribution Time (s)')"
      ],
      "metadata": {
        "id": "Gzx5X7wvJXIM",
        "colab": {
          "base_uri": "https://localhost:8080/",
          "height": 519
        },
        "outputId": "b655ac7a-bb42-4e6e-fc8f-feae3901421e"
      },
      "execution_count": null,
      "outputs": [
        {
          "output_type": "execute_result",
          "data": {
            "text/plain": [
              "Text(0, 0.5, 'Minimum File Distribution Time (s)')"
            ]
          },
          "metadata": {},
          "execution_count": 123
        },
        {
          "output_type": "display_data",
          "data": {
            "text/plain": [
              "<Figure size 720x576 with 1 Axes>"
            ],
            "image/png": "[encoded data removed]"
          },
          "metadata": {}
        }
      ]
    }
  ]
}